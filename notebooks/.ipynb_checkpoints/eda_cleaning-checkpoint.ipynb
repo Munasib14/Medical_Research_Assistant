{
 "cells": [
  {
   "cell_type": "code",
   "execution_count": 6,
   "id": "db9376db",
   "metadata": {},
   "outputs": [
    {
     "ename": "ArrowMemoryError",
     "evalue": "realloc of size 954204160 failed",
     "output_type": "error",
     "traceback": [
      "\u001b[31m---------------------------------------------------------------------------\u001b[39m",
      "\u001b[31mArrowMemoryError\u001b[39m                          Traceback (most recent call last)",
      "\u001b[36mCell\u001b[39m\u001b[36m \u001b[39m\u001b[32mIn[6]\u001b[39m\u001b[32m, line 4\u001b[39m\n\u001b[32m      1\u001b[39m \u001b[38;5;28;01mimport\u001b[39;00m\u001b[38;5;250m \u001b[39m\u001b[34;01mpandas\u001b[39;00m\u001b[38;5;250m \u001b[39m\u001b[38;5;28;01mas\u001b[39;00m\u001b[38;5;250m \u001b[39m\u001b[34;01mpd\u001b[39;00m\n\u001b[32m      3\u001b[39m \u001b[38;5;66;03m# Load it into a DataFrame\u001b[39;00m\n\u001b[32m----> \u001b[39m\u001b[32m4\u001b[39m df1 = \u001b[43mpd\u001b[49m\u001b[43m.\u001b[49m\u001b[43mread_parquet\u001b[49m\u001b[43m(\u001b[49m\u001b[33;43m\"\u001b[39;49m\u001b[33;43mC://Users//Admin//Documents//medical-research-assistant//data//processed//cord19_batches//batch_1.parquet\u001b[39;49m\u001b[33;43m\"\u001b[39;49m\u001b[43m)\u001b[49m\n\u001b[32m      5\u001b[39m \u001b[38;5;66;03m# df2 = pd.read_parquet(\"C://Users//Admin//Documents//medical-research-assistant//data//processed//cord19_batches//batch_2.parquet\")\u001b[39;00m\n\u001b[32m      6\u001b[39m \u001b[38;5;66;03m# df3 = pd.read_parquet(\"C://Users//Admin//Documents//medical-research-assistant//data//processed//cord19_batches//batch_3.parquet\")\u001b[39;00m\n\u001b[32m      7\u001b[39m \u001b[38;5;66;03m# df4 = pd.read_parquet(\"C://Users//Admin//Documents//medical-research-assistant//data//processed//cord19_batches//batch_4.parquet\")\u001b[39;00m\n\u001b[32m   (...)\u001b[39m\u001b[32m     39\u001b[39m \u001b[38;5;66;03m# df36= pd.read_parquet(\"C://Users//Admin//Documents//medical-research-assistant//data//processed//cord19_batches//batch_36.parquet\")\u001b[39;00m\n\u001b[32m     40\u001b[39m \u001b[38;5;66;03m# # Check the data\u001b[39;00m\n\u001b[32m     41\u001b[39m df1.info()\n",
      "\u001b[36mFile \u001b[39m\u001b[32mc:\\Users\\Admin\\Documents\\medical-research-assistant\\venv\\Lib\\site-packages\\pandas\\io\\parquet.py:667\u001b[39m, in \u001b[36mread_parquet\u001b[39m\u001b[34m(path, engine, columns, storage_options, use_nullable_dtypes, dtype_backend, filesystem, filters, **kwargs)\u001b[39m\n\u001b[32m    664\u001b[39m     use_nullable_dtypes = \u001b[38;5;28;01mFalse\u001b[39;00m\n\u001b[32m    665\u001b[39m check_dtype_backend(dtype_backend)\n\u001b[32m--> \u001b[39m\u001b[32m667\u001b[39m \u001b[38;5;28;01mreturn\u001b[39;00m \u001b[43mimpl\u001b[49m\u001b[43m.\u001b[49m\u001b[43mread\u001b[49m\u001b[43m(\u001b[49m\n\u001b[32m    668\u001b[39m \u001b[43m    \u001b[49m\u001b[43mpath\u001b[49m\u001b[43m,\u001b[49m\n\u001b[32m    669\u001b[39m \u001b[43m    \u001b[49m\u001b[43mcolumns\u001b[49m\u001b[43m=\u001b[49m\u001b[43mcolumns\u001b[49m\u001b[43m,\u001b[49m\n\u001b[32m    670\u001b[39m \u001b[43m    \u001b[49m\u001b[43mfilters\u001b[49m\u001b[43m=\u001b[49m\u001b[43mfilters\u001b[49m\u001b[43m,\u001b[49m\n\u001b[32m    671\u001b[39m \u001b[43m    \u001b[49m\u001b[43mstorage_options\u001b[49m\u001b[43m=\u001b[49m\u001b[43mstorage_options\u001b[49m\u001b[43m,\u001b[49m\n\u001b[32m    672\u001b[39m \u001b[43m    \u001b[49m\u001b[43muse_nullable_dtypes\u001b[49m\u001b[43m=\u001b[49m\u001b[43muse_nullable_dtypes\u001b[49m\u001b[43m,\u001b[49m\n\u001b[32m    673\u001b[39m \u001b[43m    \u001b[49m\u001b[43mdtype_backend\u001b[49m\u001b[43m=\u001b[49m\u001b[43mdtype_backend\u001b[49m\u001b[43m,\u001b[49m\n\u001b[32m    674\u001b[39m \u001b[43m    \u001b[49m\u001b[43mfilesystem\u001b[49m\u001b[43m=\u001b[49m\u001b[43mfilesystem\u001b[49m\u001b[43m,\u001b[49m\n\u001b[32m    675\u001b[39m \u001b[43m    \u001b[49m\u001b[43m*\u001b[49m\u001b[43m*\u001b[49m\u001b[43mkwargs\u001b[49m\u001b[43m,\u001b[49m\n\u001b[32m    676\u001b[39m \u001b[43m\u001b[49m\u001b[43m)\u001b[49m\n",
      "\u001b[36mFile \u001b[39m\u001b[32mc:\\Users\\Admin\\Documents\\medical-research-assistant\\venv\\Lib\\site-packages\\pandas\\io\\parquet.py:274\u001b[39m, in \u001b[36mPyArrowImpl.read\u001b[39m\u001b[34m(self, path, columns, filters, use_nullable_dtypes, dtype_backend, storage_options, filesystem, **kwargs)\u001b[39m\n\u001b[32m    267\u001b[39m path_or_handle, handles, filesystem = _get_path_or_handle(\n\u001b[32m    268\u001b[39m     path,\n\u001b[32m    269\u001b[39m     filesystem,\n\u001b[32m    270\u001b[39m     storage_options=storage_options,\n\u001b[32m    271\u001b[39m     mode=\u001b[33m\"\u001b[39m\u001b[33mrb\u001b[39m\u001b[33m\"\u001b[39m,\n\u001b[32m    272\u001b[39m )\n\u001b[32m    273\u001b[39m \u001b[38;5;28;01mtry\u001b[39;00m:\n\u001b[32m--> \u001b[39m\u001b[32m274\u001b[39m     pa_table = \u001b[38;5;28;43mself\u001b[39;49m\u001b[43m.\u001b[49m\u001b[43mapi\u001b[49m\u001b[43m.\u001b[49m\u001b[43mparquet\u001b[49m\u001b[43m.\u001b[49m\u001b[43mread_table\u001b[49m\u001b[43m(\u001b[49m\n\u001b[32m    275\u001b[39m \u001b[43m        \u001b[49m\u001b[43mpath_or_handle\u001b[49m\u001b[43m,\u001b[49m\n\u001b[32m    276\u001b[39m \u001b[43m        \u001b[49m\u001b[43mcolumns\u001b[49m\u001b[43m=\u001b[49m\u001b[43mcolumns\u001b[49m\u001b[43m,\u001b[49m\n\u001b[32m    277\u001b[39m \u001b[43m        \u001b[49m\u001b[43mfilesystem\u001b[49m\u001b[43m=\u001b[49m\u001b[43mfilesystem\u001b[49m\u001b[43m,\u001b[49m\n\u001b[32m    278\u001b[39m \u001b[43m        \u001b[49m\u001b[43mfilters\u001b[49m\u001b[43m=\u001b[49m\u001b[43mfilters\u001b[49m\u001b[43m,\u001b[49m\n\u001b[32m    279\u001b[39m \u001b[43m        \u001b[49m\u001b[43m*\u001b[49m\u001b[43m*\u001b[49m\u001b[43mkwargs\u001b[49m\u001b[43m,\u001b[49m\n\u001b[32m    280\u001b[39m \u001b[43m    \u001b[49m\u001b[43m)\u001b[49m\n\u001b[32m    281\u001b[39m     result = pa_table.to_pandas(**to_pandas_kwargs)\n\u001b[32m    283\u001b[39m     \u001b[38;5;28;01mif\u001b[39;00m manager == \u001b[33m\"\u001b[39m\u001b[33marray\u001b[39m\u001b[33m\"\u001b[39m:\n",
      "\u001b[36mFile \u001b[39m\u001b[32mc:\\Users\\Admin\\Documents\\medical-research-assistant\\venv\\Lib\\site-packages\\pyarrow\\parquet\\core.py:1824\u001b[39m, in \u001b[36mread_table\u001b[39m\u001b[34m(source, columns, use_threads, schema, use_pandas_metadata, read_dictionary, memory_map, buffer_size, partitioning, filesystem, filters, ignore_prefixes, pre_buffer, coerce_int96_timestamp_unit, decryption_properties, thrift_string_size_limit, thrift_container_size_limit, page_checksum_verification)\u001b[39m\n\u001b[32m   1812\u001b[39m     \u001b[38;5;66;03m# TODO test that source is not a directory or a list\u001b[39;00m\n\u001b[32m   1813\u001b[39m     dataset = ParquetFile(\n\u001b[32m   1814\u001b[39m         source, read_dictionary=read_dictionary,\n\u001b[32m   1815\u001b[39m         memory_map=memory_map, buffer_size=buffer_size,\n\u001b[32m   (...)\u001b[39m\u001b[32m   1821\u001b[39m         page_checksum_verification=page_checksum_verification,\n\u001b[32m   1822\u001b[39m     )\n\u001b[32m-> \u001b[39m\u001b[32m1824\u001b[39m \u001b[38;5;28;01mreturn\u001b[39;00m \u001b[43mdataset\u001b[49m\u001b[43m.\u001b[49m\u001b[43mread\u001b[49m\u001b[43m(\u001b[49m\u001b[43mcolumns\u001b[49m\u001b[43m=\u001b[49m\u001b[43mcolumns\u001b[49m\u001b[43m,\u001b[49m\u001b[43m \u001b[49m\u001b[43muse_threads\u001b[49m\u001b[43m=\u001b[49m\u001b[43muse_threads\u001b[49m\u001b[43m,\u001b[49m\n\u001b[32m   1825\u001b[39m \u001b[43m                    \u001b[49m\u001b[43muse_pandas_metadata\u001b[49m\u001b[43m=\u001b[49m\u001b[43muse_pandas_metadata\u001b[49m\u001b[43m)\u001b[49m\n",
      "\u001b[36mFile \u001b[39m\u001b[32mc:\\Users\\Admin\\Documents\\medical-research-assistant\\venv\\Lib\\site-packages\\pyarrow\\parquet\\core.py:1475\u001b[39m, in \u001b[36mParquetDataset.read\u001b[39m\u001b[34m(self, columns, use_threads, use_pandas_metadata)\u001b[39m\n\u001b[32m   1467\u001b[39m         index_columns = [\n\u001b[32m   1468\u001b[39m             col \u001b[38;5;28;01mfor\u001b[39;00m col \u001b[38;5;129;01min\u001b[39;00m _get_pandas_index_columns(metadata)\n\u001b[32m   1469\u001b[39m             \u001b[38;5;28;01mif\u001b[39;00m \u001b[38;5;129;01mnot\u001b[39;00m \u001b[38;5;28misinstance\u001b[39m(col, \u001b[38;5;28mdict\u001b[39m)\n\u001b[32m   1470\u001b[39m         ]\n\u001b[32m   1471\u001b[39m         columns = (\n\u001b[32m   1472\u001b[39m             \u001b[38;5;28mlist\u001b[39m(columns) + \u001b[38;5;28mlist\u001b[39m(\u001b[38;5;28mset\u001b[39m(index_columns) - \u001b[38;5;28mset\u001b[39m(columns))\n\u001b[32m   1473\u001b[39m         )\n\u001b[32m-> \u001b[39m\u001b[32m1475\u001b[39m table = \u001b[38;5;28;43mself\u001b[39;49m\u001b[43m.\u001b[49m\u001b[43m_dataset\u001b[49m\u001b[43m.\u001b[49m\u001b[43mto_table\u001b[49m\u001b[43m(\u001b[49m\n\u001b[32m   1476\u001b[39m \u001b[43m    \u001b[49m\u001b[43mcolumns\u001b[49m\u001b[43m=\u001b[49m\u001b[43mcolumns\u001b[49m\u001b[43m,\u001b[49m\u001b[43m \u001b[49m\u001b[38;5;28;43mfilter\u001b[39;49m\u001b[43m=\u001b[49m\u001b[38;5;28;43mself\u001b[39;49m\u001b[43m.\u001b[49m\u001b[43m_filter_expression\u001b[49m\u001b[43m,\u001b[49m\n\u001b[32m   1477\u001b[39m \u001b[43m    \u001b[49m\u001b[43muse_threads\u001b[49m\u001b[43m=\u001b[49m\u001b[43muse_threads\u001b[49m\n\u001b[32m   1478\u001b[39m \u001b[43m\u001b[49m\u001b[43m)\u001b[49m\n\u001b[32m   1480\u001b[39m \u001b[38;5;66;03m# if use_pandas_metadata, restore the pandas metadata (which gets\u001b[39;00m\n\u001b[32m   1481\u001b[39m \u001b[38;5;66;03m# lost if doing a specific `columns` selection in to_table)\u001b[39;00m\n\u001b[32m   1482\u001b[39m \u001b[38;5;28;01mif\u001b[39;00m use_pandas_metadata:\n",
      "\u001b[36mFile \u001b[39m\u001b[32mc:\\Users\\Admin\\Documents\\medical-research-assistant\\venv\\Lib\\site-packages\\pyarrow\\_dataset.pyx:589\u001b[39m, in \u001b[36mpyarrow._dataset.Dataset.to_table\u001b[39m\u001b[34m()\u001b[39m\n",
      "\u001b[36mFile \u001b[39m\u001b[32mc:\\Users\\Admin\\Documents\\medical-research-assistant\\venv\\Lib\\site-packages\\pyarrow\\_dataset.pyx:3941\u001b[39m, in \u001b[36mpyarrow._dataset.Scanner.to_table\u001b[39m\u001b[34m()\u001b[39m\n",
      "\u001b[36mFile \u001b[39m\u001b[32mc:\\Users\\Admin\\Documents\\medical-research-assistant\\venv\\Lib\\site-packages\\pyarrow\\error.pxi:155\u001b[39m, in \u001b[36mpyarrow.lib.pyarrow_internal_check_status\u001b[39m\u001b[34m()\u001b[39m\n",
      "\u001b[36mFile \u001b[39m\u001b[32mc:\\Users\\Admin\\Documents\\medical-research-assistant\\venv\\Lib\\site-packages\\pyarrow\\error.pxi:92\u001b[39m, in \u001b[36mpyarrow.lib.check_status\u001b[39m\u001b[34m()\u001b[39m\n",
      "\u001b[31mArrowMemoryError\u001b[39m: realloc of size 954204160 failed"
     ]
    }
   ],
   "source": [
    "import pandas as pd\n",
    "\n",
    "# Load it into a DataFrame\n",
    "df1 = pd.read_parquet(\"C://Users//Admin//Documents//medical-research-assistant//data//processed//cord19_batches//batch_1.parquet\")\n",
    "# df2 = pd.read_parquet(\"C://Users//Admin//Documents//medical-research-assistant//data//processed//cord19_batches//batch_2.parquet\")\n",
    "# df3 = pd.read_parquet(\"C://Users//Admin//Documents//medical-research-assistant//data//processed//cord19_batches//batch_3.parquet\")\n",
    "# df4 = pd.read_parquet(\"C://Users//Admin//Documents//medical-research-assistant//data//processed//cord19_batches//batch_4.parquet\")\n",
    "# df5 = pd.read_parquet(\"C://Users//Admin//Documents//medical-research-assistant//data//processed//cord19_batches//batch_5.parquet\")\n",
    "# df6 = pd.read_parquet(\"C://Users//Admin//Documents//medical-research-assistant//data//processed//cord19_batches//batch_6.parquet\")\n",
    "# df7 = pd.read_parquet(\"C://Users//Admin//Documents//medical-research-assistant//data//processed//cord19_batches//batch_7.parquet\")\n",
    "# df8 = pd.read_parquet(\"C://Users//Admin//Documents//medical-research-assistant//data//processed//cord19_batches//batch_8.parquet\")\n",
    "# df9 = pd.read_parquet(\"C://Users//Admin//Documents//medical-research-assistant//data//processed//cord19_batches//batch_9.parquet\")\n",
    "# df10 = pd.read_parquet(\"C://Users//Admin//Documents//medical-research-assistant//data//processed//cord19_batches//batch_10.parquet\")\n",
    "# df11= pd.read_parquet(\"C://Users//Admin//Documents//medical-research-assistant//data//processed//cord19_batches//batch_11.parquet\")\n",
    "# df12= pd.read_parquet(\"C://Users//Admin//Documents//medical-research-assistant//data//processed//cord19_batches//batch_12.parquet\")\n",
    "# df13= pd.read_parquet(\"C://Users//Admin//Documents//medical-research-assistant//data//processed//cord19_batches//batch_13.parquet\")\n",
    "# df14= pd.read_parquet(\"C://Users//Admin//Documents//medical-research-assistant//data//processed//cord19_batches//batch_14.parquet\")\n",
    "# df15= pd.read_parquet(\"C://Users//Admin//Documents//medical-research-assistant//data//processed//cord19_batches//batch_15.parquet\")\n",
    "# df16= pd.read_parquet(\"C://Users//Admin//Documents//medical-research-assistant//data//processed//cord19_batches//batch_16.parquet\")\n",
    "# df17= pd.read_parquet(\"C://Users//Admin//Documents//medical-research-assistant//data//processed//cord19_batches//batch_17.parquet\")\n",
    "# df18 = pd.read_parquet(\"C://Users//Admin//Documents//medical-research-assistant//data//processed//cord19_batches//batch_18.parquet\")\n",
    "# df19= pd.read_parquet(\"C://Users//Admin//Documents//medical-research-assistant//data//processed//cord19_batches//batch_19.parquet\")\n",
    "# df20= pd.read_parquet(\"C://Users//Admin//Documents//medical-research-assistant//data//processed//cord19_batches//batch_20.parquet\")\n",
    "# df21 = pd.read_parquet(\"C://Users//Admin//Documents//medical-research-assistant//data//processed//cord19_batches//batch_21.parquet\")\n",
    "# df22= pd.read_parquet(\"C://Users//Admin//Documents//medical-research-assistant//data//processed//cord19_batches//batch_22.parquet\")\n",
    "# df23= pd.read_parquet(\"C://Users//Admin//Documents//medical-research-assistant//data//processed//cord19_batches//batch_23.parquet\")\n",
    "# df24= pd.read_parquet(\"C://Users//Admin//Documents//medical-research-assistant//data//processed//cord19_batches//batch_24.parquet\")\n",
    "# df25= pd.read_parquet(\"C://Users//Admin//Documents//medical-research-assistant//data//processed//cord19_batches//batch_25.parquet\")\n",
    "# df26= pd.read_parquet(\"C://Users//Admin//Documents//medical-research-assistant//data//processed//cord19_batches//batch_26.parquet\")\n",
    "# df27= pd.read_parquet(\"C://Users//Admin//Documents//medical-research-assistant//data//processed//cord19_batches//batch_27.parquet\")\n",
    "# df28= pd.read_parquet(\"C://Users//Admin//Documents//medical-research-assistant//data//processed//cord19_batches//batch_28.parquet\")\n",
    "# df29= pd.read_parquet(\"C://Users//Admin//Documents//medical-research-assistant//data//processed//cord19_batches//batch_29.parquet\")\n",
    "# df30= pd.read_parquet(\"C://Users//Admin//Documents//medical-research-assistant//data//processed//cord19_batches//batch_30.parquet\")\n",
    "# df31= pd.read_parquet(\"C://Users//Admin//Documents//medical-research-assistant//data//processed//cord19_batches//batch_31.parquet\")\n",
    "# df32= pd.read_parquet(\"C://Users//Admin//Documents//medical-research-assistant//data//processed//cord19_batches//batch_32.parquet\")\n",
    "# df33= pd.read_parquet(\"C://Users//Admin//Documents//medical-research-assistant//data//processed//cord19_batches//batch_33.parquet\")\n",
    "# df34= pd.read_parquet(\"C://Users//Admin//Documents//medical-research-assistant//data//processed//cord19_batches//batch_34.parquet\")\n",
    "# df35= pd.read_parquet(\"C://Users//Admin//Documents//medical-research-assistant//data//processed//cord19_batches//batch_35.parquet\")\n",
    "# df36= pd.read_parquet(\"C://Users//Admin//Documents//medical-research-assistant//data//processed//cord19_batches//batch_36.parquet\")\n",
    "# # Check the data\n",
    "df1.info()"
   ]
  },
  {
   "cell_type": "code",
   "execution_count": 4,
   "id": "06c87422",
   "metadata": {},
   "outputs": [
    {
     "name": "stdout",
     "output_type": "stream",
     "text": [
      "<class 'pandas.core.frame.DataFrame'>\n",
      "RangeIndex: 20000 entries, 0 to 19999\n",
      "Data columns (total 8 columns):\n",
      " #   Column           Non-Null Count  Dtype \n",
      "---  ------           --------------  ----- \n",
      " 0   paper_id         20000 non-null  object\n",
      " 1   title            20000 non-null  object\n",
      " 2   authors          20000 non-null  object\n",
      " 3   abstract_text    20000 non-null  object\n",
      " 4   body_text        20000 non-null  object\n",
      " 5   bib_entry_count  20000 non-null  int64 \n",
      " 6   ref_entry_count  20000 non-null  int64 \n",
      " 7   source           20000 non-null  object\n",
      "dtypes: int64(2), object(6)\n",
      "memory usage: 1.2+ MB\n"
     ]
    }
   ],
   "source": [
    "df.info()"
   ]
  },
  {
   "cell_type": "code",
   "execution_count": null,
   "id": "25769b9a",
   "metadata": {},
   "outputs": [],
   "source": []
  }
 ],
 "metadata": {
  "kernelspec": {
   "display_name": "venv",
   "language": "python",
   "name": "python3"
  },
  "language_info": {
   "codemirror_mode": {
    "name": "ipython",
    "version": 3
   },
   "file_extension": ".py",
   "mimetype": "text/x-python",
   "name": "python",
   "nbconvert_exporter": "python",
   "pygments_lexer": "ipython3",
   "version": "3.13.3"
  }
 },
 "nbformat": 4,
 "nbformat_minor": 5
}
